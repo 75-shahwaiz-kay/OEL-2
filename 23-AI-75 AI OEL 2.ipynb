{
  "cells": [
    {
      "cell_type": "markdown",
      "source": [
        "***DEPTH FIRST SEARCH ALGORITHM USING RECURSIVE APPROACH***"
      ],
      "metadata": {
        "id": "jQf8XLQvzVkY"
      }
    },
    {
      "cell_type": "code",
      "source": [
        "\n",
        "# Define the graph using dictionary\n",
        "graph = {\n",
        "    'A': [('B', 6), ('C', 2)],\n",
        "    'B': [('D', 5), ('E', 3)],\n",
        "    'C': [('F', 4)],\n",
        "    'D': [('G', 2)],\n",
        "    'E': [('G', 6)],\n",
        "    'F': [('G', 1)],\n",
        "    'G': []\n",
        "}\n"
      ],
      "metadata": {
        "id": "UIMIasMVyhIn"
      },
      "execution_count": null,
      "outputs": []
    },
    {
      "cell_type": "code",
      "source": [
        "# DFS function to find any path using recursive function\n",
        "def dfs(graph, start, goal, path=None):\n",
        "    if path is None:\n",
        "        path = []\n",
        "    path = path + [start]\n",
        "    if start == goal:\n",
        "        return path\n",
        "    for neighbor, _ in graph[start]:\n",
        "        if neighbor not in path:\n",
        "            new_path = dfs(graph, neighbor, goal, path)\n",
        "            if new_path:\n",
        "                return new_path\n",
        "    return None\n"
      ],
      "metadata": {
        "id": "bmxYi5hEypVQ"
      },
      "execution_count": 12,
      "outputs": []
    },
    {
      "cell_type": "code",
      "source": [
        "# Run the DFS\n",
        "path = dfs(graph, 'A', 'G')\n"
      ],
      "metadata": {
        "id": "Wl0MuXdbyqh4"
      },
      "execution_count": 8,
      "outputs": []
    },
    {
      "cell_type": "code",
      "source": [
        "# Output\n",
        "print(\"Shortest path from A to G using DFS:\")\n",
        "print(path)\n"
      ],
      "metadata": {
        "id": "xvMkl8pFytgg",
        "outputId": "62d2faee-55cf-4c92-d8c9-b073f7781be9",
        "colab": {
          "base_uri": "https://localhost:8080/"
        }
      },
      "execution_count": 14,
      "outputs": [
        {
          "output_type": "stream",
          "name": "stdout",
          "text": [
            "Shortest path from A to G using DFS:\n",
            "['A', 'B', 'D', 'G']\n"
          ]
        }
      ]
    },
    {
      "cell_type": "markdown",
      "source": [
        "A* ALGORITHM"
      ],
      "metadata": {
        "id": "qEtLpXTqzxoo"
      }
    },
    {
      "cell_type": "code",
      "source": [
        "import heapq\n",
        "# initializing graph using dictionary\n",
        "graph = {\n",
        "    'A': [('B', 6), ('C', 2)],\n",
        "    'B': [('D', 5), ('E', 3)],\n",
        "    'C': [('F', 4)],\n",
        "    'D': [('G', 2)],\n",
        "    'E': [('G', 6)],\n",
        "    'F': [('G', 1)],\n",
        "    'G': []\n",
        "}\n",
        "#setting hueristic values\n",
        "h = {'A': 7, 'B': 6, 'C': 4, 'D': 3, 'E': 5, 'F': 2, 'G': 0}\n",
        "\n",
        "# A* function\n",
        "def a_star(graph, start, goal,h):\n",
        "    open_list = []\n",
        "    heapq.heappush(open_list(h[start], 0, start,[start]))\n",
        "\n",
        "    while open_list:\n",
        "      f,g,current,path = heapq.heappop(open_list)\n",
        "      if current == goal:\n",
        "        return path,g\n",
        "\n",
        "      for neighbour , cost in graph[current]:\n",
        "        newg = g+cost\n",
        "        newf = newg + h[neighbour]\n",
        "        heapq.heappush(open_list,(newf,newg,neighbour,path+[neighbour]))\n",
        "    return None\n"
      ],
      "metadata": {
        "id": "haOBemAq0L-v"
      },
      "execution_count": 15,
      "outputs": []
    },
    {
      "cell_type": "code",
      "source": [],
      "metadata": {
        "id": "IvwdBDjN6MOr"
      },
      "execution_count": null,
      "outputs": []
    }
  ],
  "metadata": {
    "colab": {
      "name": "Welcome To Colab",
      "toc_visible": true,
      "provenance": []
    },
    "kernelspec": {
      "display_name": "Python 3",
      "name": "python3"
    }
  },
  "nbformat": 4,
  "nbformat_minor": 0
}